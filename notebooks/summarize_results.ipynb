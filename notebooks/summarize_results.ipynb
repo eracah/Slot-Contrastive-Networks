{
 "cells": [
  {
   "cell_type": "code",
   "execution_count": 1,
   "metadata": {},
   "outputs": [],
   "source": [
    "import sys\n",
    "#sys.path.append(\"/Users/evanracah/Dropbox/projects/atari-representation-learning/\")\n",
    "import wandb\n",
    "import pandas as pd\n",
    "import numpy as np\n",
    "from copy import deepcopy\n",
    "import json\n",
    "from matplotlib import pyplot as plt\n",
    "import tabulate\n",
    "wandb_proj = \"eracah/coors-production\"\n"
   ]
  },
  {
   "cell_type": "code",
   "execution_count": 2,
   "metadata": {},
   "outputs": [],
   "source": [
    "api = wandb.Api()\n",
    "\n",
    "runs = api.runs(wandb_proj,filters={\"state\":\"finished\", \"tags\":\"train\", \"config.method\":\"stdim\", \"config.ablations\":[\"normalize\", \"structure-loss\"]})\n",
    "\n",
    "ids = [run.id for run in runs]\n",
    "ids.reverse()"
   ]
  },
  {
   "cell_type": "code",
   "execution_count": 3,
   "metadata": {},
   "outputs": [],
   "source": [
    "def get_table_for(metric_name, methods=[\"stdim\",\"scn\"]):\n",
    "    api = wandb.Api()\n",
    "    runs = list(api.runs(wandb_proj,filters={\"state\":\"finished\"}))\n",
    "    runs = [run for run in runs if  metric_name in run.summary_metrics ]\n",
    "    rd = [run.summary_metrics for run in runs if  metric_name in run.summary_metrics]\n",
    "    df = pd.DataFrame(rd)\n",
    "    df['env_name'] = [run.config['env_name'].split(\"NoFrameskip\")[0].lower().capitalize() for run in runs]\n",
    "    df['method'] = [ run.config['method'] + (\"_\" + \"_\".join(run.config[\"ablations\"]) if \"ablations\" in run.config and len(run.config[\"ablations\"]) > 0 else \"\" )  for run in runs]\n",
    "\n",
    "    df = df[[metric_name, \"method\", \"env_name\"]]\n",
    "  #methods = list(set(df.method))\n",
    "    mdfs = [df[df.method==method].set_index(\"env_name\").rename(columns={metric_name:method})[method] for method in methods]\n",
    "    adfs =  [avg_runs(m,m.name).set_index(\"env_name\") for m in mdfs]\n",
    "    final_df = pd.concat(adfs,axis=1,sort=True)\n",
    "\n",
    "    \n",
    "    fdft = final_df.T\n",
    "    fdft[\"Overall\"] = final_df.mean().round(2)\n",
    "    fdft = fdft.round(2).T\n",
    "\n",
    "\n",
    "\n",
    "    #latex_ldf = final_df.to_latex()\n",
    "    #bold_latex = add_bold_max(latex_ldf, ignore_last_column=False, ignore_first_column=False)\n",
    "    #print(latex_ldf)\n",
    "    return fdft"
   ]
  },
  {
   "cell_type": "code",
   "execution_count": 4,
   "metadata": {},
   "outputs": [],
   "source": [
    "def avg_runs(df,method):\n",
    "    gd = []\n",
    "    games = set(list(df.keys()))\n",
    "    for game in games:\n",
    "        m,v = df[game].mean(), df[game].var()\n",
    "        if len(df[game].shape) > 0:\n",
    "            count = df[game].shape[0]\n",
    "        else:\n",
    "            count = 1\n",
    "        stderr = v / np.sqrt(count)\n",
    "        dic = {\"env_name\":game,method:m}\n",
    "        #dic = dict(env_name=game,mean=m) #,stderr=stderr,nruns=count)\n",
    "        gd.append(dic)\n",
    "    return pd.DataFrame(gd)\n",
    "\n",
    "    "
   ]
  },
  {
   "cell_type": "code",
   "execution_count": 14,
   "metadata": {},
   "outputs": [],
   "source": [
    "methods=[\"stdim_structure-loss\", \"stdim_structure-loss_normalize\"]"
   ]
  },
  {
   "cell_type": "code",
   "execution_count": 15,
   "metadata": {},
   "outputs": [
    {
     "name": "stdout",
     "output_type": "stream",
     "text": [
      "| env_name   |   stdim_structure-loss |   stdim_structure-loss_normalize |\n",
      "|:-----------|-----------------------:|---------------------------------:|\n",
      "| Breakout   |                   0.75 |                             0.75 |\n",
      "| Freeway    |                 nan    |                             0.89 |\n",
      "| Mspacman   |                   0.39 |                             0.37 |\n",
      "| Overall    |                   0.57 |                             0.67 |\n"
     ]
    }
   ],
   "source": [
    "df = get_table_for(\"concat_overall_avg_r2\", methods=methods)\n",
    "print(tabulate.tabulate(df,headers=[\"env_name\",*methods], tablefmt=\"pipe\"))"
   ]
  },
  {
   "cell_type": "code",
   "execution_count": null,
   "metadata": {},
   "outputs": [],
   "source": []
  },
  {
   "cell_type": "code",
   "execution_count": 11,
   "metadata": {},
   "outputs": [
    {
     "name": "stdout",
     "output_type": "stream",
     "text": [
      "| env_name   |   stdim_structure-loss |   stdim_structure-loss_normalize |\n",
      "|:-----------|-----------------------:|---------------------------------:|\n",
      "| Breakout   |                   0.6  |                             0.62 |\n",
      "| Freeway    |                 nan    |                             0.89 |\n",
      "| Mspacman   |                   0.24 |                             0.23 |\n",
      "| Overall    |                   0.42 |                             0.58 |\n"
     ]
    }
   ],
   "source": [
    "ldf = get_table_for(\"concat_overall_localization_avg_r2\", methods=methods)\n",
    "print(tabulate.tabulate(ldf,headers=[\"env_name\",*methods], tablefmt=\"pipe\"))"
   ]
  },
  {
   "cell_type": "code",
   "execution_count": 14,
   "metadata": {},
   "outputs": [
    {
     "name": "stdout",
     "output_type": "stream",
     "text": [
      "| env_name      |   stdim_structure-loss |   stdim_structure-loss_normalize |\n",
      "|:--------------|-----------------------:|---------------------------------:|\n",
      "| Boxing        |                   0.58 |                           nan    |\n",
      "| Breakout      |                   0.79 |                             0.79 |\n",
      "| Freeway       |                 nan    |                             0.98 |\n",
      "| Mspacman      |                   0.6  |                             0.66 |\n",
      "| Pong          |                   0.73 |                           nan    |\n",
      "| Seaquest      |                   0.65 |                           nan    |\n",
      "| Spaceinvaders |                   0.72 |                           nan    |\n",
      "| Overall       |                   0.68 |                             0.81 |\n"
     ]
    }
   ],
   "source": [
    "ldf = get_table_for(\"concat_overall_localization_avg_f1\", methods=methods)\n",
    "print(tabulate.tabulate(ldf,headers=[\"env_name\",*methods], tablefmt=\"pipe\"))"
   ]
  },
  {
   "cell_type": "code",
   "execution_count": null,
   "metadata": {},
   "outputs": [],
   "source": [
    "| env_name      |   stdim |   scn |   scn_loss1-only |   scn_loss1-only_hinge-loss |\n",
    "|:--------------|--------:|------:|-----------------:|----------------------------:|\n",
    "| Boxing        |    0.73 |  0.22 |             0.21 |                        0.12 |\n",
    "| Breakout      |    0.92 |  0.74 |             0.78 |                        0.5  |\n",
    "| Freeway       |    0.92 |  0.52 |             0.65 |                        0.15 |\n",
    "| Mspacman      |    0.71 |  0.48 |             0.53 |                        0.48 |\n",
    "| Pong          |    0.84 |  0.67 |             0.6  |                        0.33 |\n",
    "| Seaquest      |    0.68 |  0.6  |             0.65 |                        0.62 |\n",
    "| Spaceinvaders |    0.65 |  0.42 |             0.43 |                        0.4  |\n",
    "| Overall       |    0.71 |  0.54 |             0.55 |                        0.37 |"
   ]
  },
  {
   "cell_type": "code",
   "execution_count": 34,
   "metadata": {},
   "outputs": [],
   "source": [
    "stdf = pd.read_csv(\"~/Dropbox/atariari.csv\")\n",
    "\n",
    "\n",
    "\n",
    "games = [s.capitalize() for s in list(stdf[\"Game\"])]\n",
    "\n",
    "stdf[\"Game\"] = games\n",
    "\n",
    "stdf = stdf.set_index(\"Game\")\n",
    "stdf = stdf[[\"random-cnn\", \"vae\", \"pixel-pred\", \"cpc\", \"st-dim\"]]"
   ]
  },
  {
   "cell_type": "code",
   "execution_count": 35,
   "metadata": {},
   "outputs": [],
   "source": [
    "both_df = pd.concat([ac_df,stdf],axis=1)"
   ]
  },
  {
   "cell_type": "code",
   "execution_count": null,
   "metadata": {},
   "outputs": [],
   "source": []
  },
  {
   "cell_type": "code",
   "execution_count": 36,
   "metadata": {},
   "outputs": [
    {
     "name": "stdout",
     "output_type": "stream",
     "text": [
      "| env_name         |   supervised |   stdim |   scn |   random-cnn |   vae |   pixel-pred |   cpc |   st-dim |\n",
      "|:-----------------|-------------:|--------:|------:|-------------:|------:|-------------:|------:|---------:|\n",
      "| Asteroids        |         0.51 |    0.49 |  0.49 |         0.34 |  0.36 |         0.34 |  0.42 |     0.49 |\n",
      "| Berzerk          |         0.64 |    0.59 |  0.56 |         0.43 |  0.45 |         0.55 |  0.56 |     0.53 |\n",
      "| Bowling          |         0.92 |    0.84 |  0.76 |         0.48 |  0.5  |         0.81 |  0.9  |     0.96 |\n",
      "| Boxing           |         0.79 |    0.73 |  0.22 |         0.19 |  0.2  |         0.44 |  0.29 |     0.58 |\n",
      "| Breakout         |         0.93 |    0.92 |  0.74 |         0.51 |  0.57 |         0.7  |  0.74 |     0.88 |\n",
      "| Demonattack      |         0.81 |    0.73 |  0.46 |         0.26 |  0.26 |         0.32 |  0.57 |     0.69 |\n",
      "| Freeway          |         0.97 |    0.92 |  0.59 |         0.5  |  0.01 |         0.81 |  0.47 |     0.81 |\n",
      "| Frostbite        |         0.88 |    0.71 |  0.65 |         0.57 |  0.51 |         0.72 |  0.76 |     0.75 |\n",
      "| Hero             |         0.98 |    0.95 |  0.86 |         0.75 |  0.69 |         0.74 |  0.9  |     0.93 |\n",
      "| Montezumarevenge |         0.93 |    0.83 |  0.72 |         0.68 |  0.38 |         0.74 |  0.75 |     0.78 |\n",
      "| Mspacman         |         0.84 |    0.71 |  0.51 |         0.49 |  0.56 |         0.74 |  0.65 |     0.72 |\n",
      "| Pitfall          |         0.93 |    0.81 |  0.59 |         0.34 |  0.35 |         0.44 |  0.46 |     0.6  |\n",
      "| Pong             |         0.88 |    0.84 |  0.64 |         0.17 |  0.09 |         0.7  |  0.71 |     0.81 |\n",
      "| Privateeye       |         0.99 |    0.87 |  0.75 |         0.7  |  0.71 |         0.83 |  0.81 |     0.91 |\n",
      "| Qbert            |         0.83 |    0.64 |  0.52 |         0.49 |  0.49 |         0.52 |  0.65 |     0.73 |\n",
      "| Riverraid        |         0.55 |    0.45 |  0.3  |         0.34 |  0.26 |         0.41 |  0.4  |     0.36 |\n",
      "| Seaquest         |         0.8  |    0.68 |  0.6  |         0.57 |  0.56 |         0.62 |  0.66 |     0.67 |\n",
      "| Spaceinvaders    |         0.79 |    0.65 |  0.42 |         0.41 |  0.52 |         0.57 |  0.54 |     0.57 |\n",
      "| Tennis           |         0.79 |    0.69 |  0.55 |         0.41 |  0.29 |         0.57 |  0.6  |     0.6  |\n",
      "| Venture          |         0.58 |    0.55 |  0.46 |         0.36 |  0.38 |         0.46 |  0.51 |     0.58 |\n",
      "| Videopinball     |         0.78 |    0.59 |  0.45 |         0.37 |  0.45 |         0.57 |  0.58 |     0.61 |\n",
      "| Yarsrevenge      |         0.45 |    0.46 |  0.13 |         0.22 |  0.08 |         0.19 |  0.39 |     0.42 |\n",
      "| Overall          |         0.8  |    0.71 |  0.54 |         0.44 |  0.4  |         0.58 |  0.61 |     0.68 |\n"
     ]
    }
   ],
   "source": [
    "print(tabulate.tabulate(both_df,headers=[\"env_name\",*both_df.columns], tablefmt=\"pipe\"))"
   ]
  },
  {
   "cell_type": "code",
   "execution_count": 11,
   "metadata": {},
   "outputs": [
    {
     "ename": "SyntaxError",
     "evalue": "invalid syntax (<ipython-input-11-ce1b7d381fe0>, line 1)",
     "output_type": "error",
     "traceback": [
      "\u001b[0;36m  File \u001b[0;32m\"<ipython-input-11-ce1b7d381fe0>\"\u001b[0;36m, line \u001b[0;32m1\u001b[0m\n\u001b[0;31m    | env_name         |   stdim |   scn |   supervised |   random-cnn |   vae |   pixel-pred |   cpc |   st-dim |\u001b[0m\n\u001b[0m    ^\u001b[0m\n\u001b[0;31mSyntaxError\u001b[0m\u001b[0;31m:\u001b[0m invalid syntax\n"
     ]
    }
   ],
   "source": [
    "| env_name         |   supervised |   stdim |   scn |   random-cnn |   vae |   pixel-pred |   cpc |   st-dim |\n",
    "|:-----------------|-------------:|--------:|------:|-------------:|------:|-------------:|------:|---------:|\n",
    "| Asteroids        |         0.51 |    0.49 |  0.49 |         0.34 |  0.36 |         0.34 |  0.42 |     0.49 |\n",
    "| Berzerk          |         0.64 |    0.59 |  0.56 |         0.43 |  0.45 |         0.55 |  0.56 |     0.53 |\n",
    "| Bowling          |         0.92 |    0.84 |  0.76 |         0.48 |  0.5  |         0.81 |  0.9  |     0.96 |\n",
    "| Boxing           |         0.79 |    0.73 |  0.22 |         0.19 |  0.2  |         0.44 |  0.29 |     0.58 |\n",
    "| Breakout         |         0.93 |    0.92 |  0.74 |         0.51 |  0.57 |         0.7  |  0.74 |     0.88 |\n",
    "| Demonattack      |         0.81 |    0.73 |  0.46 |         0.26 |  0.26 |         0.32 |  0.57 |     0.69 |\n",
    "| Freeway          |         0.97 |    0.92 |  0.59 |         0.5  |  0.01 |         0.81 |  0.47 |     0.81 |\n",
    "| Frostbite        |         0.88 |    0.71 |  0.65 |         0.57 |  0.51 |         0.72 |  0.76 |     0.75 |\n",
    "| Hero             |         0.98 |    0.95 |  0.86 |         0.75 |  0.69 |         0.74 |  0.9  |     0.93 |\n",
    "| Montezumarevenge |         0.93 |    0.83 |  0.72 |         0.68 |  0.38 |         0.74 |  0.75 |     0.78 |\n",
    "| Mspacman         |         0.84 |    0.71 |  0.51 |         0.49 |  0.56 |         0.74 |  0.65 |     0.72 |\n",
    "| Pitfall          |         0.93 |    0.81 |  0.59 |         0.34 |  0.35 |         0.44 |  0.46 |     0.6  |\n",
    "| Pong             |         0.88 |    0.84 |  0.64 |         0.17 |  0.09 |         0.7  |  0.71 |     0.81 |\n",
    "| Privateeye       |         0.99 |    0.87 |  0.75 |         0.7  |  0.71 |         0.83 |  0.81 |     0.91 |\n",
    "| Qbert            |         0.83 |    0.64 |  0.52 |         0.49 |  0.49 |         0.52 |  0.65 |     0.73 |\n",
    "| Riverraid        |         0.55 |    0.45 |  0.3  |         0.34 |  0.26 |         0.41 |  0.4  |     0.36 |\n",
    "| Seaquest         |         0.8  |    0.68 |  0.6  |         0.57 |  0.56 |         0.62 |  0.66 |     0.67 |\n",
    "| Spaceinvaders    |         0.79 |    0.65 |  0.42 |         0.41 |  0.52 |         0.57 |  0.54 |     0.57 |\n",
    "| Tennis           |         0.79 |    0.69 |  0.55 |         0.41 |  0.29 |         0.57 |  0.6  |     0.6  |\n",
    "| Venture          |         0.58 |    0.55 |  0.46 |         0.36 |  0.38 |         0.46 |  0.51 |     0.58 |\n",
    "| Videopinball     |         0.78 |    0.59 |  0.45 |         0.37 |  0.45 |         0.57 |  0.58 |     0.61 |\n",
    "| Yarsrevenge      |         0.45 |    0.46 |  0.13 |         0.22 |  0.08 |         0.19 |  0.39 |     0.42 |\n",
    "| Overall          |         0.8  |    0.71 |  0.54 |         0.44 |  0.4  |         0.58 |  0.61 |     0.68 |"
   ]
  },
  {
   "cell_type": "code",
   "execution_count": 96,
   "metadata": {},
   "outputs": [],
   "source": [
    "api = wandb.Api()\n",
    "\n",
    "sup_runs = api.runs(wandb_proj,filters={\"config.method\": \"supervised\"})\n",
    "\n",
    "\" \".join([s.id for s in sup_runs])\n",
    "\n"
   ]
  }
 ],
 "metadata": {
  "kernelspec": {
   "display_name": "Python 3",
   "language": "python",
   "name": "python3"
  },
  "language_info": {
   "codemirror_mode": {
    "name": "ipython",
    "version": 3
   },
   "file_extension": ".py",
   "mimetype": "text/x-python",
   "name": "python",
   "nbconvert_exporter": "python",
   "pygments_lexer": "ipython3",
   "version": "3.7.4"
  }
 },
 "nbformat": 4,
 "nbformat_minor": 4
}
