{
 "cells": [
  {
   "cell_type": "code",
   "execution_count": 95,
   "metadata": {},
   "outputs": [],
   "source": [
    "import sys\n",
    "#sys.path.append(\"/Users/evanracah/Dropbox/projects/atari-representation-learning/\")\n",
    "import wandb\n",
    "import pandas as pd\n",
    "import numpy as np\n",
    "from copy import deepcopy\n",
    "import json\n",
    "from matplotlib import pyplot as plt\n",
    "\n",
    "wandb_proj = \"eracah/coors-production\""
   ]
  },
  {
   "cell_type": "code",
   "execution_count": 23,
   "metadata": {},
   "outputs": [],
   "source": [
    "import tabulate"
   ]
  },
  {
   "cell_type": "code",
   "execution_count": 24,
   "metadata": {},
   "outputs": [],
   "source": [
    "def add_bold_max(latex_str, ignore_last_column=True, ignore_first_column=False, margin=0.01):\n",
    "    strs = []\n",
    "    for r in latex_str.split(\"\\\\\\\\\"):\n",
    "        if \".\" in r:\n",
    "            s = r.split(\"&\")\n",
    "            nums = [float(n) for n in s[1:] if \".\" in n or \"NaN\" in  n]\n",
    "            #print(nums)\n",
    "            am_nums = deepcopy(nums)\n",
    "            if ignore_last_column:\n",
    "                am_nums = am_nums[:-1]\n",
    "                \n",
    "            if ignore_first_column:\n",
    "                am_nums = am_nums[1:]\n",
    "  \n",
    "                \n",
    "                \n",
    "            filt_nums = [n if not np.isnan(n) else -1 for n in am_nums ]\n",
    "            amax, maxx = [np.argmax(filt_nums)], np.max(filt_nums)\n",
    "            for i,n in enumerate(filt_nums):\n",
    "                if i == amax[0]:\n",
    "                    continue\n",
    "                if n+margin >= maxx:\n",
    "                    amax.append(i)\n",
    "            for am in amax:\n",
    "                if ignore_first_column:\n",
    "                    am = am+1\n",
    "                nums[am] = \"\\\\textbf{%5.2f} \"%(nums[am])\n",
    "            nums = [\"%5.2f\"%n if not isinstance(n,str) else n for n in nums ]\n",
    "            nr = [s[0]] + nums\n",
    "            nr = \"  &  \".join(nr)\n",
    "        else:\n",
    "            nr = r\n",
    "        strs.append(nr)\n",
    "\n",
    "    final_latex = \"\\\\\\\\\".join(strs)\n",
    "    final_latex = final_latex.replace(\"nan\",\"NaN\")\n",
    "    return final_latex\n",
    "\n",
    "def print_latex(ldf,ignore_last_column=True, ignore_first_column=False):\n",
    "    latex_ldf = ldf.to_latex()\n",
    "    print(add_bold_max(latex_ldf, ignore_last_column=ignore_last_column, ignore_first_column=ignore_first_column))"
   ]
  },
  {
   "cell_type": "code",
   "execution_count": 25,
   "metadata": {},
   "outputs": [],
   "source": [
    "def get_table_for(metric_name, methods=[\"stdim\",\"scn\"]):\n",
    "    api = wandb.Api()\n",
    "    runs = list(api.runs(wandb_proj))\n",
    "    runs = [run for run in runs if  metric_name in run.summary_metrics ]\n",
    "    rd = [run.summary_metrics for run in runs if  metric_name in run.summary_metrics]\n",
    "    df = pd.DataFrame(rd)\n",
    "    df['env_name'] = [run.config['env_name'].split(\"NoFrameskip\")[0].lower().capitalize() for run in runs]\n",
    "    df['method'] = [ run.config['method'] for run in runs]\n",
    "\n",
    "    df = df[[metric_name, \"method\", \"env_name\"]]\n",
    "  #methods = list(set(df.method))\n",
    "    mdfs = [df[df.method==method].set_index(\"env_name\").rename(columns={metric_name:method})[method] for method in methods]\n",
    "    adfs =  [avg_runs(m,m.name).set_index(\"env_name\") for m in mdfs]\n",
    "    final_df = pd.concat(adfs,axis=1,sort=True)\n",
    "\n",
    "    \n",
    "    fdft = final_df.T\n",
    "    fdft[\"Overall\"] = final_df.mean().round(2)\n",
    "    fdft = fdft.round(2).T\n",
    "\n",
    "\n",
    "\n",
    "    #latex_ldf = final_df.to_latex()\n",
    "    #bold_latex = add_bold_max(latex_ldf, ignore_last_column=False, ignore_first_column=False)\n",
    "    #print(latex_ldf)\n",
    "    return fdft"
   ]
  },
  {
   "cell_type": "code",
   "execution_count": 89,
   "metadata": {},
   "outputs": [],
   "source": [
    "def avg_runs(df,method):\n",
    "    gd = []\n",
    "    games = set(list(df.keys()))\n",
    "    for game in games:\n",
    "        m,v = df[game].mean(), df[game].var()\n",
    "        if len(df[game].shape) > 0:\n",
    "            count = df[game].shape[0]\n",
    "        else:\n",
    "            count = 1\n",
    "        stderr = v / np.sqrt(count)\n",
    "        dic = {\"env_name\":game,method:m}\n",
    "        #dic = dict(env_name=game,mean=m) #,stderr=stderr,nruns=count)\n",
    "        gd.append(dic)\n",
    "    return pd.DataFrame(gd)\n",
    "\n",
    "    "
   ]
  },
  {
   "cell_type": "code",
   "execution_count": 90,
   "metadata": {},
   "outputs": [
    {
     "name": "stdout",
     "output_type": "stream",
     "text": [
      "| env_name         |   stdim |   scn |\n",
      "|:-----------------|--------:|------:|\n",
      "| Asteroids        |    0.48 |  0.48 |\n",
      "| Berzerk          |    0.62 |  0.58 |\n",
      "| Bowling          |    0.84 |  0.77 |\n",
      "| Boxing           |    0.77 |  0.24 |\n",
      "| Breakout         |    0.9  |  0.71 |\n",
      "| Demonattack      |    0.44 |  0.28 |\n",
      "| Freeway          |    0.98 |  0.68 |\n",
      "| Frostbite        |    0.78 |  0.68 |\n",
      "| Hero             |    0.95 |  0.87 |\n",
      "| Montezumarevenge |    0.76 |  0.65 |\n",
      "| Mspacman         |    0.67 |  0.45 |\n",
      "| Pitfall          |    0.8  |  0.6  |\n",
      "| Pong             |    0.87 |  0.74 |\n",
      "| Privateeye       |    0.88 |  0.77 |\n",
      "| Qbert            |    0.57 |  0.41 |\n",
      "| Riverraid        |    0.43 |  0.29 |\n",
      "| Seaquest         |    0.66 |  0.56 |\n",
      "| Spaceinvaders    |    0.69 |  0.46 |\n",
      "| Tennis           |    0.65 |  0.48 |\n",
      "| Venture          |    0.44 |  0.32 |\n",
      "| Videopinball     |    0.59 |  0.45 |\n",
      "| Yarsrevenge      |    0.32 |  0.13 |\n",
      "| Overall          |    0.68 |  0.53 |\n"
     ]
    }
   ],
   "source": [
    "df = get_table_for(\"concat_overall_avg_f1\")\n",
    "\n",
    "print(tabulate.tabulate(df,headers=[\"env_name\",\"stdim\", \"scn\"], tablefmt=\"pipe\"))"
   ]
  },
  {
   "cell_type": "code",
   "execution_count": 91,
   "metadata": {},
   "outputs": [
    {
     "name": "stdout",
     "output_type": "stream",
     "text": [
      "| env_name         |   stdim |   scn |\n",
      "|:-----------------|--------:|------:|\n",
      "| Asteroids        |    0.49 |  0.49 |\n",
      "| Berzerk          |    0.59 |  0.56 |\n",
      "| Bowling          |    0.84 |  0.76 |\n",
      "| Boxing           |    0.73 |  0.22 |\n",
      "| Breakout         |    0.92 |  0.74 |\n",
      "| Demonattack      |    0.73 |  0.46 |\n",
      "| Freeway          |    0.92 |  0.52 |\n",
      "| Frostbite        |    0.71 |  0.65 |\n",
      "| Hero             |    0.95 |  0.86 |\n",
      "| Montezumarevenge |    0.83 |  0.72 |\n",
      "| Mspacman         |    0.71 |  0.48 |\n",
      "| Pitfall          |    0.81 |  0.59 |\n",
      "| Pong             |    0.84 |  0.67 |\n",
      "| Privateeye       |    0.87 |  0.75 |\n",
      "| Qbert            |    0.64 |  0.52 |\n",
      "| Riverraid        |    0.45 |  0.3  |\n",
      "| Seaquest         |    0.68 |  0.6  |\n",
      "| Spaceinvaders    |    0.65 |  0.42 |\n",
      "| Tennis           |    0.69 |  0.55 |\n",
      "| Venture          |    0.55 |  0.46 |\n",
      "| Videopinball     |    0.59 |  0.45 |\n",
      "| Yarsrevenge      |    0.46 |  0.13 |\n",
      "| Overall          |    0.71 |  0.54 |\n"
     ]
    }
   ],
   "source": [
    "ac_df = get_table_for(\"concat_across_categories_avg_f1\")\n",
    "print(tabulate.tabulate(ac_df,headers=[\"env_name\",\"stdim\", \"scn\"], tablefmt=\"pipe\"))"
   ]
  },
  {
   "cell_type": "code",
   "execution_count": 92,
   "metadata": {},
   "outputs": [],
   "source": [
    "stdf = pd.read_csv(\"~/Dropbox/atariari.csv\")\n",
    "\n",
    "\n",
    "\n",
    "games = [s.capitalize() for s in list(stdf[\"Game\"])]\n",
    "\n",
    "stdf[\"Game\"] = games\n",
    "\n",
    "stdf = stdf.set_index(\"Game\")\n",
    "stdf = stdf[[\"random-cnn\", \"vae\", \"pixel-pred\", \"cpc\", \"st-dim\"]]"
   ]
  },
  {
   "cell_type": "code",
   "execution_count": 93,
   "metadata": {},
   "outputs": [],
   "source": [
    "both_df = pd.concat([ac_df,stdf],axis=1)"
   ]
  },
  {
   "cell_type": "code",
   "execution_count": null,
   "metadata": {},
   "outputs": [],
   "source": []
  },
  {
   "cell_type": "code",
   "execution_count": 94,
   "metadata": {},
   "outputs": [
    {
     "name": "stdout",
     "output_type": "stream",
     "text": [
      "| env_name         |   stdim |   scn |   random-cnn |   vae |   pixel-pred |   cpc |   st-dim |\n",
      "|:-----------------|--------:|------:|-------------:|------:|-------------:|------:|---------:|\n",
      "| Asteroids        |    0.49 |  0.49 |         0.34 |  0.36 |         0.34 |  0.42 |     0.49 |\n",
      "| Berzerk          |    0.59 |  0.56 |         0.43 |  0.45 |         0.55 |  0.56 |     0.53 |\n",
      "| Bowling          |    0.84 |  0.76 |         0.48 |  0.5  |         0.81 |  0.9  |     0.96 |\n",
      "| Boxing           |    0.73 |  0.22 |         0.19 |  0.2  |         0.44 |  0.29 |     0.58 |\n",
      "| Breakout         |    0.92 |  0.74 |         0.51 |  0.57 |         0.7  |  0.74 |     0.88 |\n",
      "| Demonattack      |    0.73 |  0.46 |         0.26 |  0.26 |         0.32 |  0.57 |     0.69 |\n",
      "| Freeway          |    0.92 |  0.52 |         0.5  |  0.01 |         0.81 |  0.47 |     0.81 |\n",
      "| Frostbite        |    0.71 |  0.65 |         0.57 |  0.51 |         0.72 |  0.76 |     0.75 |\n",
      "| Hero             |    0.95 |  0.86 |         0.75 |  0.69 |         0.74 |  0.9  |     0.93 |\n",
      "| Montezumarevenge |    0.83 |  0.72 |         0.68 |  0.38 |         0.74 |  0.75 |     0.78 |\n",
      "| Mspacman         |    0.71 |  0.48 |         0.49 |  0.56 |         0.74 |  0.65 |     0.72 |\n",
      "| Pitfall          |    0.81 |  0.59 |         0.34 |  0.35 |         0.44 |  0.46 |     0.6  |\n",
      "| Pong             |    0.84 |  0.67 |         0.17 |  0.09 |         0.7  |  0.71 |     0.81 |\n",
      "| Privateeye       |    0.87 |  0.75 |         0.7  |  0.71 |         0.83 |  0.81 |     0.91 |\n",
      "| Qbert            |    0.64 |  0.52 |         0.49 |  0.49 |         0.52 |  0.65 |     0.73 |\n",
      "| Riverraid        |    0.45 |  0.3  |         0.34 |  0.26 |         0.41 |  0.4  |     0.36 |\n",
      "| Seaquest         |    0.68 |  0.6  |         0.57 |  0.56 |         0.62 |  0.66 |     0.67 |\n",
      "| Spaceinvaders    |    0.65 |  0.42 |         0.41 |  0.52 |         0.57 |  0.54 |     0.57 |\n",
      "| Tennis           |    0.69 |  0.55 |         0.41 |  0.29 |         0.57 |  0.6  |     0.6  |\n",
      "| Venture          |    0.55 |  0.46 |         0.36 |  0.38 |         0.46 |  0.51 |     0.58 |\n",
      "| Videopinball     |    0.59 |  0.45 |         0.37 |  0.45 |         0.57 |  0.58 |     0.61 |\n",
      "| Yarsrevenge      |    0.46 |  0.13 |         0.22 |  0.08 |         0.19 |  0.39 |     0.42 |\n",
      "| Overall          |    0.71 |  0.54 |         0.44 |  0.4  |         0.58 |  0.61 |     0.68 |\n"
     ]
    }
   ],
   "source": [
    "print(tabulate.tabulate(both_df,headers=[\"env_name\",*both_df.columns], tablefmt=\"pipe\"))"
   ]
  },
  {
   "cell_type": "code",
   "execution_count": 96,
   "metadata": {},
   "outputs": [],
   "source": [
    "api = wandb.Api()\n",
    "\n",
    "sup_runs = api.runs(wandb_proj,filters={\"config.method\": \"supervised\"})\n",
    "\n",
    "\" \".join([s.id for s in sup_runs])\n",
    "\n"
   ]
  }
 ],
 "metadata": {
  "kernelspec": {
   "display_name": "Python 3",
   "language": "python",
   "name": "python3"
  },
  "language_info": {
   "codemirror_mode": {
    "name": "ipython",
    "version": 3
   },
   "file_extension": ".py",
   "mimetype": "text/x-python",
   "name": "python",
   "nbconvert_exporter": "python",
   "pygments_lexer": "ipython3",
   "version": "3.7.4"
  }
 },
 "nbformat": 4,
 "nbformat_minor": 4
}
