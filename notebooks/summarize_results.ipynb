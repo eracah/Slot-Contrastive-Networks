{
 "cells": [
  {
   "cell_type": "code",
   "execution_count": 1,
   "metadata": {},
   "outputs": [],
   "source": [
    "import sys\n",
    "#sys.path.append(\"/Users/evanracah/Dropbox/projects/atari-representation-learning/\")\n",
    "import wandb\n",
    "import pandas as pd\n",
    "import numpy as np\n",
    "from copy import deepcopy\n",
    "import json\n",
    "from matplotlib import pyplot as plt\n",
    "import tabulate\n",
    "wandb_proj = \"eracah/coors-production\"\n"
   ]
  },
  {
   "cell_type": "code",
   "execution_count": 9,
   "metadata": {},
   "outputs": [],
   "source": [
    "def grab_relevant_tr_runs():\n",
    "    \"\"\"\n",
    "    grabs relevant runs for a given method (and have computed the metric that is desired)\n",
    "    \"\"\"\n",
    "    api = wandb.Api()\n",
    "    runs = list(api.runs(wandb_proj, order='-created_at',filters={\"state\":\"finished\", \"tags\": \"train\"}))\n",
    "    print(\" \".join([run.id for run in runs]))\n",
    "    return runs\n",
    "\n",
    "    return runs\n",
    "\n",
    "def grab_relevant_wandb_runs(tags=\"eval\"):\n",
    "    \"\"\"\n",
    "    grabs relevant runs for a given method (and have computed the metric that is desired)\n",
    "    \"\"\"\n",
    "    api = wandb.Api()\n",
    "    runs = list(api.runs(wandb_proj,filters={\"state\":\"finished\", \"tags\": tags}))\n",
    "    return runs\n",
    "\n",
    "def get_ablations(config):\n",
    "    return \"_\" + \"_\".join(config[\"ablations\"]) if \"ablations\" in config and len(config[\"ablations\"]) > 0 else \"\"\n",
    "\n",
    "def is_random_cnn(config):\n",
    "    if \"random_cnn\" in config and config[\"random_cnn\"]:\n",
    "        return True\n",
    "    else:\n",
    "        return False\n",
    "\n",
    "def make_dataframe_from_runs(runs_list, metric_name):\n",
    "    rd = [run.summary_metrics for run in runs_list]\n",
    "    df = pd.DataFrame(rd)\n",
    "    env_names = [run.config['env_name'].split(\"NoFrameskip\")[0].lower().capitalize() for run in runs_list]\n",
    "    methods = [ (\"random_\" if is_random_cnn(run.config) and \"random\" not in run.config['method'] else \"\") + run.config['method'] + get_ablations(run.config)  for run in runs_list]\n",
    "    \n",
    "    df['env_name'] = env_names\n",
    "    df['method'] = methods\n",
    "    df = df[[metric_name, \"method\", \"env_name\"]]\n",
    "    return df\n",
    "\n",
    "\n",
    "def make_mean_df(df, metric_name):\n",
    "    # compute mean of multiple runs\n",
    "    mdf = df.groupby([\"env_name\",\"method\"]).mean().reset_index() \n",
    "    mdf = mdf.pivot(index=\"env_name\", columns=\"method\", values=metric_name) # pivot table so each method has own column\n",
    "    # remove unnecessary column set names\n",
    "    mdf.columns.name = None \n",
    "    mdf.index.name = None\n",
    "    avg_of_means_series = mdf.mean(axis=0)\n",
    "    avg_of_means_df = pd.DataFrame([avg_of_means_series], index=[\"Overall\"])\n",
    "    mdf = pd.concat([mdf,avg_of_means_df],sort=False)\n",
    "    mdf = mdf.round(3)\n",
    "    return mdf\n",
    "\n",
    "def make_std_df(df, metric_name):\n",
    "    sdf = df.groupby([\"env_name\",\"method\"]).std().reset_index() # compute std for any duplicate runs (runs that share same env_name and method)\n",
    "    sdf = sdf.pivot(index=\"env_name\", columns=\"method\", values=metric_name) # pivot so method names are columns \n",
    "#     sdf = sdf.round(3)\n",
    "    sdf.columns.name = None\n",
    "    sdf.index.name = None\n",
    "    var_df = sdf**2\n",
    "    avg_var_series = var_df.mean(axis=0)\n",
    "    avg_std_series = avg_var_series.pow(0.5)\n",
    "    avg_std_df = pd.DataFrame([avg_std_series], index=[\"Overall\"])\n",
    "    sdf = pd.concat([sdf,avg_std_df],sort=False)\n",
    "\n",
    "    \n",
    "    return sdf\n",
    "\n",
    "def make_count_df(df, metric_name):\n",
    "    cdf = df.groupby([\"env_name\",\"method\"]).count().reset_index() \n",
    "    cdf = cdf.pivot(index=\"env_name\", columns=\"method\", values=metric_name) # pivot so method names are columns \n",
    "#     cdf = cdf.round(3)\n",
    "    cdf.columns.name = None\n",
    "    cdf.index.name = None\n",
    "    total_count = pd.DataFrame([cdf.sum(axis=0)], index=[\"Overall\"])\n",
    "    cdf = pd.concat([cdf, total_count],sort=False)\n",
    "    return cdf\n",
    "\n",
    "def make_stderr_df(std_df, count_df):\n",
    "    stderr_df = std_df / count_df**(1/2)\n",
    "    stderr_df = stderr_df.round(3)\n",
    "    return stderr_df\n",
    "\n",
    "    \n",
    "def add_error_bars(mean_df,stderr_df, count_df):\n",
    "    main_df = stderr_df.copy()\n",
    "    for method in mean_df.columns:\n",
    "        plus_minus_strings = []\n",
    "        mean_std = list(zip(mean_df[method], stderr_df[method], count_df[method]))\n",
    "        for mn, stderr, count in mean_std:\n",
    "            if np.isnan(stderr):\n",
    "                plus_minus_strings.append(str(mn))\n",
    "            else:\n",
    "                plus_minus_strings.append(str(mn) + \"+-\" + str(stderr) + \" (\" + str(int(count)) + \")\")\n",
    "        main_df[method] = plus_minus_strings\n",
    "    return main_df\n",
    "\n",
    "def get_df(metric_name, tags=\"eval\"):\n",
    "    runs = grab_relevant_wandb_runs(tags=tags)\n",
    "    df = make_dataframe_from_runs(runs, metric_name=metric_name)\n",
    "    mean_df = make_mean_df(df, metric_name)\n",
    "    std_df = make_std_df(df, metric_name)\n",
    "    count_df = make_count_df(df,metric_name=metric_name)\n",
    "    stderr_df = make_stderr_df(std_df, count_df)\n",
    "    final_df = add_error_bars(mean_df, stderr_df, count_df)\n",
    "    return final_df, count_df, mean_df,stderr_df\n",
    "\n",
    "def plot_bars(mean_df, std_df, da_title):\n",
    "    x_labels = list(mean_df.index)\n",
    "    bar_labels = list(mean_df.columns)\n",
    "    mean_heights = [mean_df[[bar_label]].to_numpy().squeeze() for bar_label in bar_labels]\n",
    "    std_heights = [std_df[[bar_label]].to_numpy().squeeze() for  bar_label in bar_labels]\n",
    "    x_inds = np.arange(len(x_labels))  # the label locations\n",
    "    width = 0.10  # the width of the bars\n",
    "    rect_placements = [x_inds + width*i for i in range(len(bar_labels))]\n",
    "    fig, ax = plt.subplots()\n",
    "    rects = [ax.bar(x=rect_placements[i], height=mean_heights[i],label=bar_labels[i], yerr=std_heights[i],width=width) for i in range(len(bar_labels))]\n",
    "    ax.set_xticks(x_inds)\n",
    "    ax.set_xticklabels(x_labels)\n",
    "    ax.legend(loc='upper center', bbox_to_anchor=(0.5, -0.07),\n",
    "          fancybox=True, shadow=True, ncol=5)\n",
    "    ax.set_title(da_title)"
   ]
  },
  {
   "cell_type": "code",
   "execution_count": 14,
   "metadata": {},
   "outputs": [],
   "source": [
    "methods = [\"stdim\",\"slot-stdim\",\"slot-stdim_slot-map-space-loss\", \"slot-stdim_slot-space-loss\", \"scn\", \"random_slot-stdim\"] #\"scn_loss1-only\",\n",
    "metric_name=\"concat_overall_localization_avg_r2\"\n",
    "tags=\"eval\""
   ]
  },
  {
   "cell_type": "code",
   "execution_count": 26,
   "metadata": {},
   "outputs": [],
   "source": [
    "methods = [\"stdim\", \"slot-stdim_slot-map-space-loss\", \"random_slot-stdim\"]"
   ]
  },
  {
   "cell_type": "code",
   "execution_count": 27,
   "metadata": {},
   "outputs": [],
   "source": [
    "final_df, count_df, r2_m_df, r2_stderr_df = get_df(metric_name=metric_name)\n",
    "fdf = final_df.loc[[\"Asteroids\",\"Freeway\",\"Breakout\",\"Mspacman\"]][methods]\n",
    "#print(tabulate.tabulate(fdf,headers=[\"env_name\",*fdf.columns], tablefmt=\"pipe\")) "
   ]
  },
  {
   "cell_type": "code",
   "execution_count": 28,
   "metadata": {},
   "outputs": [
    {
     "name": "stdout",
     "output_type": "stream",
     "text": [
      "\\begin{tabular}{llll}\n",
      "\\toprule\n",
      "{} &             stdim & slot-stdim\\_slot-map-space-loss & random\\_slot-stdim \\\\\n",
      "\\midrule\n",
      "Asteroids &  0.221+-0.004 (3) &               0.176+-0.005 (3) &  0.106+-0.004 (4) \\\\\n",
      "Freeway   &  0.788+-0.008 (3) &               0.867+-0.013 (3) &  0.711+-0.015 (3) \\\\\n",
      "Breakout  &  0.581+-0.001 (3) &               0.495+-0.027 (3) &  0.479+-0.009 (3) \\\\\n",
      "Mspacman  &  0.216+-0.006 (3) &               0.154+-0.025 (3) &  0.147+-0.007 (3) \\\\\n",
      "\\bottomrule\n",
      "\\end{tabular}\n",
      "\n"
     ]
    }
   ],
   "source": [
    "print(fdf.to_latex())"
   ]
  },
  {
   "cell_type": "code",
   "execution_count": 29,
   "metadata": {},
   "outputs": [
    {
     "data": {
      "image/png": "[encoded data removed]",
      "text/plain": [
       "<Figure size 432x288 with 1 Axes>"
      ]
     },
     "metadata": {
      "needs_background": "light"
     },
     "output_type": "display_data"
    }
   ],
   "source": [
    "plot_bars(r2_m_df[methods], r2_stderr_df[methods], \"R2 Regression Scores\")"
   ]
  },
  {
   "cell_type": "code",
   "execution_count": 30,
   "metadata": {},
   "outputs": [],
   "source": [
    "methods = list(fdf.columns) #[\"slot-stdim\", \"slot-stdim_slot-space-loss\", \"scn\",\"slot-stdim_slot-map-space-loss\"]\n",
    "methods.remove(\"stdim\")"
   ]
  },
  {
   "cell_type": "code",
   "execution_count": 32,
   "metadata": {},
   "outputs": [
    {
     "name": "stdout",
     "output_type": "stream",
     "text": [
      "\\begin{tabular}{lll}\n",
      "\\toprule\n",
      "{} & slot-stdim\\_slot-map-space-loss & random\\_slot-stdim \\\\\n",
      "\\midrule\n",
      "Asteroids &               0.016+-0.001 (3) &    0.002+-0.0 (2) \\\\\n",
      "Freeway   &               0.022+-0.004 (3) &    0.003+-0.0 (3) \\\\\n",
      "Breakout  &               0.015+-0.001 (3) &    0.011+-0.0 (2) \\\\\n",
      "Mspacman  &               0.012+-0.001 (3) &    0.004+-0.0 (3) \\\\\n",
      "\\bottomrule\n",
      "\\end{tabular}\n",
      "\n"
     ]
    }
   ],
   "source": [
    "dcid_df, count_df, dcid_mean_df, dcid_std_df = get_df(metric_name=\"r2_dci_d\", tags=\"disentangle\")\n",
    "\n",
    "dcid_df = dcid_df.loc[[\"Asteroids\",\"Freeway\",\"Breakout\",\"Mspacman\"]][methods]\n",
    "#print(tabulate.tabulate(dcid_df,headers=[\"env_name\",*dcid_df.columns], tablefmt=\"pipe\")) \n",
    "print(dcid_df.to_latex())"
   ]
  },
  {
   "cell_type": "code",
   "execution_count": 37,
   "metadata": {},
   "outputs": [
    {
     "name": "stdout",
     "output_type": "stream",
     "text": [
      "\\begin{tabular}{lll}\n",
      "\\toprule\n",
      "{} & slot-stdim\\_slot-map-space-loss & random\\_slot-stdim \\\\\n",
      "\\midrule\n",
      "Asteroids &                0.08+-0.039 (3) &    0.005+-0.0 (2) \\\\\n",
      "Freeway   &               0.078+-0.031 (3) &  0.034+-0.015 (3) \\\\\n",
      "Breakout  &               0.054+-0.029 (3) &  0.007+-0.001 (2) \\\\\n",
      "Mspacman  &               0.026+-0.005 (3) &  0.007+-0.001 (3) \\\\\n",
      "\\bottomrule\n",
      "\\end{tabular}\n",
      "\n"
     ]
    }
   ],
   "source": [
    "dcic_df, count_df, dcic_mean_df, dcic_std_df = get_df(metric_name=\"r2_dci_c\", tags=\"disentangle\")\n",
    "\n",
    "dcic_df = dcic_df.loc[[\"Asteroids\",\"Freeway\",\"Breakout\",\"Mspacman\"]][methods]\n",
    "#print(tabulate.tabulate(dcic_df,headers=[\"env_name\",*dcic_df.columns], tablefmt=\"pipe\")) \n",
    "print(dcic_df.to_latex())"
   ]
  },
  {
   "cell_type": "code",
   "execution_count": 9,
   "metadata": {},
   "outputs": [],
   "source": [
    "#r2_methods = [\"slot-stdim\", \"slot-stdim_slot-space-loss\", \"scn\",\"stdim\",\"slot-stdim_slot-map-space-loss\", \"random_slot-stdim\" , \"scn_loss1-only\"]"
   ]
  },
  {
   "cell_type": "code",
   "execution_count": 10,
   "metadata": {},
   "outputs": [],
   "source": [
    "# methods.remove(\"slot-stdim_slot-map-space-loss\")\n"
   ]
  },
  {
   "cell_type": "code",
   "execution_count": 11,
   "metadata": {},
   "outputs": [
    {
     "data": {
      "image/png": "[encoded data removed]",
      "text/plain": [
       "<Figure size 432x288 with 1 Axes>"
      ]
     },
     "metadata": {
      "needs_background": "light"
     },
     "output_type": "display_data"
    }
   ],
   "source": [
    "plot_bars(dcid_mean_df[methods], dcid_std_df[methods], \"Slot DCI-D Modularity Scores\")"
   ]
  },
  {
   "cell_type": "code",
   "execution_count": 12,
   "metadata": {},
   "outputs": [
    {
     "data": {
      "image/png": "[encoded data removed]",
      "text/plain": [
       "<Figure size 432x288 with 1 Axes>"
      ]
     },
     "metadata": {
      "needs_background": "light"
     },
     "output_type": "display_data"
    }
   ],
   "source": [
    "plot_bars(dcic_mean_df[methods], dcic_std_df[methods], \"Slot DCI-C Compactness Scores\")"
   ]
  },
  {
   "cell_type": "code",
   "execution_count": null,
   "metadata": {},
   "outputs": [],
   "source": []
  },
  {
   "cell_type": "code",
   "execution_count": null,
   "metadata": {},
   "outputs": [],
   "source": []
  }
 ],
 "metadata": {
  "kernelspec": {
   "display_name": "Python 3",
   "language": "python",
   "name": "python3"
  },
  "language_info": {
   "codemirror_mode": {
    "name": "ipython",
    "version": 3
   },
   "file_extension": ".py",
   "mimetype": "text/x-python",
   "name": "python",
   "nbconvert_exporter": "python",
   "pygments_lexer": "ipython3",
   "version": "3.7.4"
  }
 },
 "nbformat": 4,
 "nbformat_minor": 4
}
