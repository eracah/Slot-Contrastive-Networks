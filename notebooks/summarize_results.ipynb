{
 "cells": [
  {
   "cell_type": "code",
   "execution_count": 1,
   "metadata": {},
   "outputs": [],
   "source": [
    "import sys\n",
    "#sys.path.append(\"/Users/evanracah/Dropbox/projects/atari-representation-learning/\")\n",
    "import wandb\n",
    "import pandas as pd\n",
    "import numpy as np\n",
    "from copy import deepcopy\n",
    "import json\n",
    "from matplotlib import pyplot as plt\n",
    "import tabulate\n",
    "wandb_proj = \"eracah/coors-production\"\n"
   ]
  },
  {
   "cell_type": "code",
   "execution_count": 6,
   "metadata": {},
   "outputs": [],
   "source": [
    "def grab_relevant_wandb_runs():\n",
    "    \"\"\"\n",
    "    grabs relevant runs for a given method (and have computed the metric that is desired)\n",
    "    \"\"\"\n",
    "    api = wandb.Api()\n",
    "    runs = list(api.runs(wandb_proj,filters={\"state\":\"finished\", \"tags\": \"eval\"}))\n",
    "    return runs\n",
    "\n",
    "\n",
    "def make_dataframe_from_runs(runs_list, metric_name):\n",
    "    rd = [run.summary_metrics for run in runs_list]\n",
    "    df = pd.DataFrame(rd)\n",
    "    env_names = [run.config['env_name'].split(\"NoFrameskip\")[0].lower().capitalize() for run in runs_list]\n",
    "    methods = [run.config['method'] + (\"_\" + \"_\".join(run.config[\"ablations\"]) if \"ablations\" in run.config and len(run.config[\"ablations\"]) > 0 else \"\" )  for run in runs_list]\n",
    "    df['env_name'] = env_names\n",
    "    df['method'] = methods\n",
    "    df = df[[metric_name, \"method\", \"env_name\"]]\n",
    "    return df\n",
    "\n",
    "\n",
    "def make_mean_df(df, metric_name):\n",
    "    # compute mean of multiple runs\n",
    "    mdf = df.groupby([\"env_name\",\"method\"]).mean().reset_index() \n",
    "    mdf = mdf.pivot(index=\"env_name\", columns=\"method\", values=metric_name) # pivot table so each method has own column\n",
    "    # remove unnecessary column set names\n",
    "    mdf.columns.name = None \n",
    "    mdf.index.name = None\n",
    "\n",
    "    mdf = mdf.round(2)\n",
    "    return mdf\n",
    "\n",
    "def make_std_df(df, metric_name):\n",
    "    sdf = df.groupby([\"env_name\",\"method\"]).std().reset_index() # compute std for any duplicate runs (runs that share same env_name and method)\n",
    "    sdf = sdf.pivot(index=\"env_name\", columns=\"method\", values=metric_name) # pivot so method names are columns \n",
    "    sdf = sdf.round(2)\n",
    "    sdf.columns.name = None\n",
    "    sdf.index.name = None\n",
    "    return sdf\n",
    "  \n",
    "def add_error_bars(mean_df,std_df):\n",
    "    for method in mean_df.columns:\n",
    "        plus_minus_strings = []\n",
    "        mean_std = list(zip(mean_df[method], std_df[method]))\n",
    "        for mn, std in mean_std:\n",
    "            if np.isnan(std):\n",
    "                plus_minus_strings.append(str(mn))\n",
    "            else:   \n",
    "                plus_minus_strings.append(str(mn) + \"+-\" + str(std))\n",
    "        std_df[method] = plus_minus_strings\n",
    "    return std_df\n",
    "\n",
    "def get_df(metric_name):\n",
    "    runs = grab_relevant_wandb_runs()\n",
    "    df = make_dataframe_from_runs(runs, metric_name=metric_name)\n",
    "    mean_df = make_mean_df(df, metric_name)\n",
    "    std_df = make_std_df(df, metric_name)\n",
    "    final_df = add_error_bars(mean_df, std_df)\n",
    "    return final_df"
   ]
  },
  {
   "cell_type": "code",
   "execution_count": 7,
   "metadata": {},
   "outputs": [
    {
     "name": "stdout",
     "output_type": "stream",
     "text": [
      "| env_name   |   stdim |   slot-stdim |\n",
      "|:-----------|--------:|-------------:|\n",
      "| Asteroids  |    0.23 |         0.18 |\n",
      "| Freeway    |    0.77 |         0.74 |\n",
      "| Breakout   |    0.58 |         0.48 |\n",
      "| Mspacman   |    0.21 |         0.14 |\n"
     ]
    }
   ],
   "source": [
    "final_df = get_df(metric_name=\"concat_overall_localization_avg_r2\")\n",
    "\n",
    "fdf = final_df.loc[[\"Asteroids\",\"Freeway\",\"Breakout\",\"Mspacman\"]][[\"stdim\",\"slot-stdim\"]]\n",
    "print(tabulate.tabulate(fdf,headers=[\"env_name\",*fdf.columns], tablefmt=\"pipe\")) "
   ]
  }
 ],
 "metadata": {
  "kernelspec": {
   "display_name": "Python 3",
   "language": "python",
   "name": "python3"
  },
  "language_info": {
   "codemirror_mode": {
    "name": "ipython",
    "version": 3
   },
   "file_extension": ".py",
   "mimetype": "text/x-python",
   "name": "python",
   "nbconvert_exporter": "python",
   "pygments_lexer": "ipython3",
   "version": "3.7.4"
  }
 },
 "nbformat": 4,
 "nbformat_minor": 4
}
